{
 "cells": [
  {
   "cell_type": "markdown",
   "id": "027032ec",
   "metadata": {},
   "source": [
    "## 1) Escreva um programa que imprima uma linha reta de tamanho N. Por exemplo, uma reta de tamanho 10 seria desenhada da seguinte maneira : *##########*"
   ]
  },
  {
   "cell_type": "code",
   "execution_count": null,
   "id": "7548ae06",
   "metadata": {},
   "outputs": [],
   "source": [
    "n=int(input('Insira um número: '))\n",
    "contador=0\n",
    "while(contador<n):\n",
    "    print('#', end='')\n",
    "    contador+=1"
   ]
  },
  {
   "cell_type": "markdown",
   "id": "f98cafaa",
   "metadata": {},
   "source": [
    "## 2 e 3)É muito fácil desenhar algumas figuras geométricas usando caracteres ASCII. Olhe a figura abaixo. Ela mostra um retângulo de tamanho 6 (largura) por 4 (altura)."
   ]
  },
  {
   "cell_type": "code",
   "execution_count": null,
   "id": "28a41380",
   "metadata": {},
   "outputs": [],
   "source": [
    "c=int(input('insira o comprimento: '))\n",
    "h=int(input('insira a altura: '))\n",
    "contador=0\n",
    "while(contador<h):\n",
    "    print()\n",
    "    x=0\n",
    "    while(x<c):\n",
    "        print('#', end='')\n",
    "        x+=1\n",
    "    contador+=1"
   ]
  },
  {
   "cell_type": "markdown",
   "id": "99c2efc2",
   "metadata": {},
   "source": [
    "## 3) Modifique o programa anterior para que ele desenhe um triângulo com o formato indicado abaixo. TIPO TRIANGULO DE CABEÇA PRA BAIXO.\n"
   ]
  },
  {
   "cell_type": "code",
   "execution_count": null,
   "id": "cb6689c9",
   "metadata": {},
   "outputs": [],
   "source": [
    "c=int(input('INSIRA UM VALOR PARA A LARGURA: '))\n",
    "contador=0\n",
    "a=c\n",
    "while(contador<c):\n",
    "    print()\n",
    "    x=0\n",
    "    while(x<a):\n",
    "        print('#', end='')\n",
    "        x+=1\n",
    "    contador+=1\n",
    "    a-=1\n",
    "    \n",
    "        "
   ]
  },
  {
   "cell_type": "markdown",
   "id": "893d3cb8",
   "metadata": {},
   "source": [
    "## 4) Modifique o programa anterior para que ele desenhe um triângulo com o formato indicadoabaixo. A entrada do programa é somente a largura da última linha."
   ]
  },
  {
   "cell_type": "code",
   "execution_count": null,
   "id": "fab53963",
   "metadata": {},
   "outputs": [],
   "source": [
    "c=int(input('INSIRA UM VALOR PARA A LARGURA: '))\n",
    "y=1\n",
    "contador=0\n",
    "while(contador<c):\n",
    "    print()\n",
    "    x=0\n",
    "    while(x<y):\n",
    "        print('#', end='')\n",
    "        x+=1\n",
    "    contador+=1\n",
    "    y+=1"
   ]
  },
  {
   "cell_type": "markdown",
   "id": "3a583ad6",
   "metadata": {},
   "source": [
    "## 5) Escreva um programa que imprima todos os ímpares entre 0 e 50"
   ]
  },
  {
   "cell_type": "code",
   "execution_count": null,
   "id": "39c67176",
   "metadata": {},
   "outputs": [],
   "source": [
    "n=0\n",
    "while(n<50):\n",
    "    n+=1\n",
    "    f=n%2\n",
    "    if(f!=0):\n",
    "        print(n)\n",
    "    else:\n",
    "        pass "
   ]
  },
  {
   "cell_type": "markdown",
   "id": "6a737555",
   "metadata": {},
   "source": [
    "## 6) Escreva um programa que imprima a soma de todos os pares entre 0 e 50"
   ]
  },
  {
   "cell_type": "code",
   "execution_count": null,
   "id": "f6149879",
   "metadata": {},
   "outputs": [],
   "source": [
    "n=-1\n",
    "soma=0\n",
    "while(n<50):\n",
    "    n+=1\n",
    "    f=n%2\n",
    "    if(f==0):\n",
    "        print(n)\n",
    "        soma+=n\n",
    "    else:\n",
    "        pass\n",
    "print(soma)"
   ]
  },
  {
   "cell_type": "markdown",
   "id": "ef6323a2",
   "metadata": {},
   "source": [
    "## 7) Escreva um programa que simule a entrada de um número inteiro e calcule a soma de todosos  inteiros de 0 até́"
   ]
  },
  {
   "cell_type": "code",
   "execution_count": null,
   "id": "34f634c5",
   "metadata": {},
   "outputs": [],
   "source": [
    "n=int(input('insira um número: '))\n",
    "contador=1\n",
    "f=n+1\n",
    "soma=0\n",
    "while(contador<=n):\n",
    "    f-=1\n",
    "    soma+=f\n",
    "    contador+=1\n",
    "print(soma)\n",
    "    \n",
    "    "
   ]
  },
  {
   "cell_type": "markdown",
   "id": "ac8a4c03",
   "metadata": {},
   "source": [
    "## 8) Escreva um programa que imprima a soma dos números pares e dos números ímparespresentes em um intervalo. Este intervalo será́ composto por dois números inteiros positivosx e y, tal que y > = x, lidos na entrada."
   ]
  },
  {
   "cell_type": "code",
   "execution_count": null,
   "id": "df7ad54e",
   "metadata": {},
   "outputs": [],
   "source": [
    "x=int(input('INSIRA O PRIMEIRO NÚMERO DO INTERVALO: '))\n",
    "y=int(input('INSIRA O SEGUNDO NÚMERO: '))\n",
    "sp=0\n",
    "si=0\n",
    "while(x<=y):\n",
    "    r=x%2\n",
    "    if(r==0):\n",
    "        sp+=x\n",
    "    else:\n",
    "        si+=x\n",
    "    x+=1\n",
    "print('soma dos pares=',sp,'soma dos impares=',si)\n",
    "    "
   ]
  },
  {
   "cell_type": "markdown",
   "id": "9e873693",
   "metadata": {},
   "source": [
    "##  9) Escreva um programa que calcule x elevado a n. Assuma que n e x são valores inteiros."
   ]
  },
  {
   "cell_type": "code",
   "execution_count": null,
   "id": "c0ce9c04",
   "metadata": {},
   "outputs": [],
   "source": [
    "x=int(input('INSIRA A BASE: '))\n",
    "n=int(input('INSIRA O EXPOENTE '))\n",
    "contador=0\n",
    "m=1\n",
    "while(contador<n):\n",
    "    contador+=1\n",
    "    m*=x\n",
    "print(m)\n",
    "    "
   ]
  },
  {
   "cell_type": "markdown",
   "id": "c2376ba2",
   "metadata": {},
   "source": [
    "## 10)Escreva um programa que leia um número e encontre todos os seus divisores. "
   ]
  },
  {
   "cell_type": "code",
   "execution_count": null,
   "id": "ce65bcb2",
   "metadata": {},
   "outputs": [],
   "source": [
    "n=int(input('INSIRA UM NÚMERO: '))\n",
    "contador=0\n",
    "while(contador<n):\n",
    "    contador+=1\n",
    "    r=n%contador\n",
    "    if(r==0):\n",
    "        print('é divisor', contador)\n",
    "    else:\n",
    "        pass\n",
    "    "
   ]
  },
  {
   "cell_type": "markdown",
   "id": "51c94dcb",
   "metadata": {},
   "source": [
    "## 11) Crie um programa para verificar se um número inteiro positivo recebido como entrada éprimo."
   ]
  },
  {
   "cell_type": "code",
   "execution_count": null,
   "id": "66d5e7af",
   "metadata": {},
   "outputs": [],
   "source": [
    "n=int(input('insira um número: '))\n",
    "primo=0\n",
    "contador=0\n",
    "while(contador<n):\n",
    "    contador+=1\n",
    "    if(n%contador==0):\n",
    "        primo+=1\n",
    "    else:\n",
    "        pass\n",
    "if(primo>2):\n",
    "    print(\"não é primo, pois tem\",primo,'mútiplos')\n",
    "else:\n",
    "    print(n,'é primo')\n",
    "   "
   ]
  },
  {
   "cell_type": "markdown",
   "id": "c27746b2",
   "metadata": {},
   "source": [
    "## 13) Implemente um programa que calcule o fatorial de um número n como entrada do usuário"
   ]
  },
  {
   "cell_type": "code",
   "execution_count": null,
   "id": "df847c58",
   "metadata": {},
   "outputs": [],
   "source": [
    "n=int(input('insira um número que deseja calcular seu fatorial: '))\n",
    "contador=0\n",
    "f=1\n",
    "while(contador<n):\n",
    "    contador+=1\n",
    "    f*=contador\n",
    "print(f)\n",
    "    "
   ]
  },
  {
   "cell_type": "markdown",
   "id": "694e78c4",
   "metadata": {},
   "source": [
    "## 14) Escreva um programa que some os primeiros x números primos, no qual x é o um valorinteiro positivo recebido como entrada."
   ]
  },
  {
   "cell_type": "code",
   "execution_count": null,
   "id": "3116a98f",
   "metadata": {},
   "outputs": [],
   "source": [
    "n=int(input('entre com um número inteiro positivo: '))\n",
    "contador=0\n",
    "teste=2\n",
    "soma=0\n",
    "## número primo é divisível por dois números apenas, por ele mesmo e por 1.\n",
    "while(contador<n):\n",
    "    primo=True\n",
    "    for i in range(2,teste):\n",
    "        if(teste%i==0):\n",
    "            primo=False\n",
    "            break\n",
    "    if(primo):\n",
    "        print(teste)\n",
    "        soma+=teste\n",
    "        contador+=1\n",
    "    teste+=1\n",
    "            \n",
    "print(soma)\n",
    "            \n",
    "        \n",
    "        "
   ]
  },
  {
   "cell_type": "markdown",
   "id": "9cf5a3a5",
   "metadata": {},
   "source": [
    "## 15) Implemente um script que converta um número decimal para binário. Segue o algoritmo:Dividir o número decimal por 2 até o quociente da divisão for menor que 1. A cada divisãodeve-se guardar o resto e a resposta é a concatenação dos restos da última divisão paraprimeira.  Exemplo para entrada 4 seria100"
   ]
  },
  {
   "cell_type": "code",
   "execution_count": null,
   "id": "caa18351",
   "metadata": {},
   "outputs": [],
   "source": [
    "n=int(input('digite um número: '))\n",
    "if(n==0):\n",
    "    print('0 na base binário é igual a 0')\n",
    "else:\n",
    "    while(n>=1):\n",
    "        resto=n%2\n",
    "        n=n//2\n",
    "        \n",
    "        print(resto,end='')\n",
    "print('   <----- se faz necessário ler a resposta invertida para saber o número na base binária', end='')\n"
   ]
  },
  {
   "cell_type": "markdown",
   "id": "b0a2a6cc",
   "metadata": {},
   "source": [
    "## 16)Escreva um programa que calcule e imprima o valor aproximado de PI obtido pela somados n primeiros termos da série abaixo. N é o valor de entrada do usuário.Pi = (4/1) - (4/3) + (4/5) - (4/7) + (4/9) – (4/11) .."
   ]
  },
  {
   "cell_type": "code",
   "execution_count": null,
   "id": "db279089",
   "metadata": {},
   "outputs": [],
   "source": [
    "a1=1\n",
    "contador=0\n",
    "soma=0\n",
    "n=int(input('DIGITE UM LIMITE PARA CALCULAR A SOMA DA SÉRIE '))\n",
    "while(contador<n):\n",
    "    contador+=1\n",
    "    if(contador%2!=0):\n",
    "        soma+=(4)/a1\n",
    "    else:\n",
    "        soma+=(-4)/a1\n",
    "    a1+=2\n",
    "print(soma)\n",
    "    \n",
    "    "
   ]
  }
 ],
 "metadata": {
  "kernelspec": {
   "display_name": "Python 3 (ipykernel)",
   "language": "python",
   "name": "python3"
  },
  "language_info": {
   "codemirror_mode": {
    "name": "ipython",
    "version": 3
   },
   "file_extension": ".py",
   "mimetype": "text/x-python",
   "name": "python",
   "nbconvert_exporter": "python",
   "pygments_lexer": "ipython3",
   "version": "3.9.7"
  }
 },
 "nbformat": 4,
 "nbformat_minor": 5
}
